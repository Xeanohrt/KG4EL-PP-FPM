{
 "cells": [
  {
   "cell_type": "markdown",
   "metadata": {},
   "source": [
    "# Script demonstrating comparisons between the FEL and a given EL for FPM\n",
    "In FPM the FEL with contain a target data model which the EL structure of a given company can be compared against.\n",
    "In this script the datatypes are compared to demonstrate the possibility to use a graph database for EL preprocessing in constructing a FPM"
   ]
  },
  {
   "cell_type": "code",
   "execution_count": 1,
   "metadata": {},
   "outputs": [],
   "source": [
    "# Import libraries\n",
    "import json\n",
    "import pandas as pd\n",
    "import numpy\n",
    "import re"
   ]
  },
  {
   "cell_type": "code",
   "execution_count": 2,
   "metadata": {},
   "outputs": [],
   "source": [
    "#define the Federated Event Log (FEL) and a given source EL\n",
    "object_event_log_name = 'BPI_C_2019_FEL_synthetic_' #Here is the FEL Meta-DataFrame which has to be created through script 2\n",
    "subject_event_log_name = 'BPI_C_2019_3_final_synthetic'"
   ]
  },
  {
   "cell_type": "code",
   "execution_count": 3,
   "metadata": {},
   "outputs": [
    {
     "name": "stdout",
     "output_type": "stream",
     "text": [
      "// Delete fit and change relationships.\n",
      "MATCH (object_node:BPI_C_2019_FEL_synthetic_) - [rel:CHANGE|FIT] -> (subject_node:BPI_C_2019_3_final_synthetic) DELETE rel;\n",
      "\n"
     ]
    }
   ],
   "source": [
    "#Optionally Clean up previous relationships containing CHANGE or FIT in case they where generated falsely\n",
    "print('// Delete fit and change relationships.')\n",
    "print(f'MATCH (object_node:{object_event_log_name}) - [rel:CHANGE|FIT] -> (subject_node:{subject_event_log_name}) DELETE rel;')\n",
    "print()"
   ]
  },
  {
   "cell_type": "code",
   "execution_count": 4,
   "metadata": {},
   "outputs": [],
   "source": [
    "fit_and_change_commands = ''\n",
    "fit_and_change_commands += '// Delete fit and change relationships.\\n'\n",
    "fit_and_change_commands += f'// MATCH (object_node:{object_event_log_name}) - [rel:CHANGE|FIT] -> (subject_node:{subject_event_log_name}) DELETE rel;\\n\\n'\n",
    "\n",
    "fit_and_change_commands += '// Create fit and change relationships.\\n'\n",
    "\n",
    "object_log_columns_table = pd.read_csv(f'analysis/comparison/overview_for_Comparison_{object_event_log_name}.csv')\n",
    "subject_log_columns_table = pd.read_csv(f'analysis/comparison/overview_for_Comparison_{subject_event_log_name}.csv')\n",
    "for relationship_name in object_log_columns_table.index:\n",
    "\n",
    "  # of type <class 'pandas.core.series.Series'>\n",
    "  object_row = object_log_columns_table.loc[relationship_name]\n",
    "  subject_row = subject_log_columns_table.loc[relationship_name]\n",
    "\n",
    "  # the Property is a property derived from the event log; this property is a column in the event log; hence the property is also called a log column\n",
    "  object_log_column = object_row['Property']\n",
    "  subject_log_column = subject_row['Property']\n",
    "\n",
    "  make_FIT_relationship_command = 'MATCH '\n",
    "  make_FIT_relationship_command += f'(object_node:{object_event_log_name}:`{object_log_column}`), '\n",
    "  make_FIT_relationship_command += f'(subject_node:{subject_event_log_name}:`{subject_log_column}`) '\n",
    "  make_FIT_relationship_command += 'WHERE object_node.`Data type` = subject_node.`Data type` '\n",
    "  make_FIT_relationship_command += 'CREATE (object_node) - [:FIT] -> (subject_node);\\n'\n",
    "\n",
    "  make_CHANGE_relationship_command = 'MATCH '\n",
    "  make_CHANGE_relationship_command += f'(object_node:{object_event_log_name}:`{object_log_column}`), '\n",
    "  make_CHANGE_relationship_command += f'(subject_node:{subject_event_log_name}:`{subject_log_column}`) '\n",
    "  make_CHANGE_relationship_command += 'WHERE object_node.`Data type` <> subject_node.`Data type` '\n",
    "  make_CHANGE_relationship_command += 'CREATE (object_node) - [:CHANGE] -> (subject_node);\\n'\n",
    "\n",
    "  fit_and_change_commands += make_FIT_relationship_command\n",
    "  fit_and_change_commands += make_CHANGE_relationship_command\n",
    "\n",
    "fit_and_change_commands += '\\n'\n",
    "\n",
    "fit_and_change_commands += '// Show all nodes from the two graphs, between which we have created fit and change relationships.\\n'\n",
    "fit_and_change_commands += f'// MATCH (node) WHERE node:{object_event_log_name} OR node:{subject_event_log_name} RETURN (node);\\n'\n",
    "fit_and_change_commands += '\\n'\n",
    "\n",
    "fit_and_change_commands += '// Show any node in the graph database.\\n'\n",
    "fit_and_change_commands += '// MATCH (node) RETURN (node);\\n'\n",
    "\n",
    "with open(f'analysis/FIT_and_CHANGE_REL_Dataset_3.cypher', 'w') as overview_file:\n",
    "  print(fit_and_change_commands, file=overview_file)"
   ]
  },
  {
   "attachments": {},
   "cell_type": "markdown",
   "metadata": {},
   "source": [
    "# End of Script 3 demonstrating comparisons between the FEL and a given EL for FPM\n",
    "Author: Kyle Smith <br>\n",
    "Script: For Masterthesis <br>\n",
    "University: University of Camerino & University of Applied Sciences Northwestern Switzerland"
   ]
  },
  {
   "cell_type": "markdown",
   "metadata": {},
   "source": []
  }
 ],
 "metadata": {
  "kernelspec": {
   "display_name": "Python 3",
   "language": "python",
   "name": "python3"
  },
  "language_info": {
   "codemirror_mode": {
    "name": "ipython",
    "version": 3
   },
   "file_extension": ".py",
   "mimetype": "text/x-python",
   "name": "python",
   "nbconvert_exporter": "python",
   "pygments_lexer": "ipython3",
   "version": "3.10.2"
  },
  "orig_nbformat": 4,
  "vscode": {
   "interpreter": {
    "hash": "aee8b7b246df8f9039afb4144a1f6fd8d2ca17a180786b69acc140d282b71a49"
   }
  }
 },
 "nbformat": 4,
 "nbformat_minor": 2
}
